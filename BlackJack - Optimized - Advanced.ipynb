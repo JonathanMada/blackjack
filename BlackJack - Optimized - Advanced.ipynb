{
 "cells": [
  {
   "cell_type": "code",
   "execution_count": 1,
   "metadata": {},
   "outputs": [],
   "source": [
    "#Defining the deck using pairs of tuples\n",
    "deck = (('1',1),('2',2),('3',3),('4',4),('5',5),('6',6),('7',7),('8',8),('9',9),('10',10),('J',10),('Q',10),('K',10),('A',11))"
   ]
  },
  {
   "cell_type": "code",
   "execution_count": 2,
   "metadata": {},
   "outputs": [],
   "source": [
    "#Function which is fetching randomly all the cards\n",
    "import random\n",
    "\n",
    "def tri():\n",
    "    (a, b) = random.choice(deck)\n",
    "    return(a, b)"
   ]
  },
  {
   "cell_type": "markdown",
   "metadata": {},
   "source": [
    "# Create the display board"
   ]
  },
  {
   "cell_type": "code",
   "execution_count": 3,
   "metadata": {},
   "outputs": [],
   "source": [
    "#we have to create the board now\n",
    "from IPython.display import clear_output\n",
    "\n",
    "def myboard(dealer, *args):\n",
    "    clear_output()\n",
    "    for turn in (dealer, *args):\n",
    "        print('\\n', turn.balance, f' - The score of the {turn.name}')\n",
    "    print('\\n---------------------------------------')\n",
    "    for turn in (dealer, *args):\n",
    "        turn.tableau()\n",
    "        print('---------------------------------------')"
   ]
  },
  {
   "cell_type": "markdown",
   "metadata": {},
   "source": [
    "# Create the class"
   ]
  },
  {
   "cell_type": "code",
   "execution_count": 4,
   "metadata": {},
   "outputs": [],
   "source": [
    "class Person():\n",
    "    \n",
    "    \n",
    "    def __init__(self, card, balance, name):\n",
    "        self.card = card \n",
    "        self.balance = balance\n",
    "        self.collect = []\n",
    "        self.name = name\n",
    "        self.board = {1:' ', 2:' ', 3:' ', 4:' ', 5:' '}\n",
    "        \n",
    "    def tableau(self):\n",
    "        print(f'{self.name}',' | ', self.board[1],' | ', self.board[2],' | ', self.board[3],' | ', self.board[4],' | ', self.board[5],' | ')\n",
    "        \n",
    "    def hit(self):\n",
    "        (x, y) = tri()\n",
    "        \n",
    "        if x == 'A':\n",
    "            if self.name == 'Dealer':\n",
    "                value = [1, 11]\n",
    "                y = random.choice(value)\n",
    "            else:\n",
    "                print(self.name, ' - You got an Ace!')\n",
    "                y = int(input('\\n Choose 1 or 11: '))\n",
    "            \n",
    "        self.collect.append(x)\n",
    "        self.card += y\n",
    "        return(x, y)\n",
    "    \n",
    "    def win(self,bet):\n",
    "        self.balance += bet\n",
    "        return(self.balance)\n",
    "    \n",
    "    def lose(self,bet):\n",
    "        self.balance -= bet\n",
    "        return(self.balance)\n",
    "    "
   ]
  },
  {
   "cell_type": "markdown",
   "metadata": {},
   "source": [
    "# Let's start the game"
   ]
  },
  {
   "cell_type": "code",
   "execution_count": 5,
   "metadata": {},
   "outputs": [],
   "source": [
    "game = True"
   ]
  },
  {
   "cell_type": "code",
   "execution_count": 6,
   "metadata": {},
   "outputs": [],
   "source": [
    "def betting(a, b, bet):\n",
    "    a.win(bet)\n",
    "    b.lose(bet)\n",
    "    return(bet)"
   ]
  },
  {
   "cell_type": "markdown",
   "metadata": {},
   "source": [
    "RESTART FUNCTION"
   ]
  },
  {
   "cell_type": "code",
   "execution_count": 7,
   "metadata": {},
   "outputs": [],
   "source": [
    "def restart(blackjack):\n",
    "    global game\n",
    "    ask = input('Replay the game: ')\n",
    "    if ask.lower() == 'yes':\n",
    "        game = True\n",
    "        blackjack()"
   ]
  },
  {
   "cell_type": "markdown",
   "metadata": {},
   "source": [
    "HIDE & UNHIDE FUNCTION"
   ]
  },
  {
   "cell_type": "code",
   "execution_count": 8,
   "metadata": {},
   "outputs": [],
   "source": [
    "def hide(dealer, player, b):\n",
    "    X = 'X'\n",
    "    dealer.board[2] = X\n",
    "    a = dealer.board[2]\n",
    "    myboard(dealer, player)\n",
    "    return (dealer.board[2], b)    \n",
    "        \n",
    "def unhide(dealer, player, b):\n",
    "    option = input('Show dealer: ')\n",
    "    if option.lower() == 'yes':\n",
    "        dealer.board[2] = b\n",
    "    myboard(dealer, player)"
   ]
  },
  {
   "cell_type": "markdown",
   "metadata": {},
   "source": [
    "FUNCTION HIT OR STAY"
   ]
  },
  {
   "cell_type": "code",
   "execution_count": 9,
   "metadata": {},
   "outputs": [],
   "source": [
    "def hit_stay(dealer, player):\n",
    "    i = 3\n",
    "    while player.card < 21:\n",
    "\n",
    "        option = input('Do you want to hit or stay: ')\n",
    "        if option.lower() == 'hit':\n",
    "            (x, y) = player.hit()\n",
    "            player.board[i] = x\n",
    "            i += 1\n",
    "        elif option.lower() == 'stay':\n",
    "            break\n",
    "\n",
    "        myboard(dealer, player)\n",
    "        \n",
    "    return(myboard, game, player)"
   ]
  },
  {
   "cell_type": "markdown",
   "metadata": {},
   "source": [
    "CONDITIONS"
   ]
  },
  {
   "cell_type": "code",
   "execution_count": 10,
   "metadata": {},
   "outputs": [],
   "source": [
    "#player condition\n",
    "def pcond(dealer, player, bet):\n",
    "    global game\n",
    "    if 21 < player.card and game == True:\n",
    "        myboard(dealer, player)\n",
    "        print('\\n Player Busted!')\n",
    "        betting(dealer, player, bet)\n",
    "        game = False\n",
    "    elif 21 == player.card and game == True:\n",
    "        myboard(dealer, player)\n",
    "        print('\\n Player BlackJack!')\n",
    "        betting(player, dealer, bet)\n",
    "        game = False\n",
    "    return(game, bet, player.balance)\n",
    "\n",
    "#dealer condition\n",
    "def dcond(dealer, player, bet):\n",
    "    global game\n",
    "    if 21 < dealer.card and game == True:\n",
    "        myboard(dealer, player)\n",
    "        print('\\n Dealer Busted!')\n",
    "        betting(player, dealer, bet)\n",
    "        game = False\n",
    "    elif 21 == dealer.card and game == True:\n",
    "        myboard(dealer, player)\n",
    "        print('\\n Dealer BlackJack!')\n",
    "        betting(dealer, player, bet)\n",
    "        game = False\n",
    "    return(game, bet, dealer.balance)\n",
    "\n",
    "#game condition\n",
    "def gcond(dealer, player, bet):\n",
    "    global game\n",
    "    if dealer.card < player.card and game == True:\n",
    "        myboard(dealer, player)\n",
    "        print('\\n Player Won!')\n",
    "        betting(player, dealer, bet)\n",
    "        game = False\n",
    "    elif player.card < dealer.card and game == True: \n",
    "        myboard(dealer, player)\n",
    "        print('\\n Dealer Won!')\n",
    "        betting(dealer, player, bet)\n",
    "        game = False\n",
    "    elif player.card == dealer.card and game == True: \n",
    "        myboard(dealer, player)\n",
    "        print(\"\\n It's a tie game\")\n",
    "        game = False\n",
    "    return(game, dealer.balance, player.balance, bet)"
   ]
  },
  {
   "cell_type": "markdown",
   "metadata": {},
   "source": [
    "# HERE IS THE REAL SHIT!!!"
   ]
  },
  {
   "cell_type": "code",
   "execution_count": 11,
   "metadata": {},
   "outputs": [],
   "source": [
    "def blackjack():\n",
    "\n",
    "    #initiate the game\n",
    "    dealer = Person(0, 100, 'Dealer')\n",
    "    player = Person(0, 100, 'Player')\n",
    "\n",
    "    while 0 < dealer.balance and 0 < player.balance:\n",
    "        global game\n",
    "        game = True\n",
    "        a = dealer.balance\n",
    "        b = player.balance\n",
    "        dealer = Person(0, a, 'Dealer')\n",
    "        player = Person(0, b, 'Player')\n",
    "        myboard(dealer, player)\n",
    "        bet = int(input('Enter your bet: '))\n",
    "        \n",
    "        #we set the while loop that controls the game\n",
    "        while game:\n",
    "\n",
    "\n",
    "            #distribute the card\n",
    "            for turn in (dealer, player):\n",
    "                for i in range(1,3):\n",
    "\n",
    "                    if turn == dealer:\n",
    "                        (x, y) = dealer.hit()\n",
    "                        turn.board[i] = x\n",
    "                        #We hide the second card of the dealer\n",
    "                        if i == 2:\n",
    "                            b = dealer.board[2]\n",
    "                            hide(dealer, player, b) \n",
    "\n",
    "                    elif turn == player:\n",
    "                        (x, y) = player.hit()\n",
    "                        turn.board[i] = x\n",
    "                        myboard(dealer, player) \n",
    "\n",
    "            #here we set initiate a call for the player if he wanna hit or stay   \n",
    "            hit_stay(dealer, player)\n",
    "\n",
    "            #Condition for the player\n",
    "            pcond(dealer, player, bet)\n",
    "\n",
    "            #To reveal the dealer's card \n",
    "            if game == True:\n",
    "                unhide(dealer, player, b)\n",
    "            else: break\n",
    "\n",
    "            #For showing the dealer's move\n",
    "            option = input('See the dealer move: ')\n",
    "            if option.lower() == 'yes' and game == True:\n",
    "                i = 3\n",
    "                while dealer.card < 17:\n",
    "                    (x, y) = dealer.hit()\n",
    "                    dealer.board[i] = x\n",
    "                    myboard(dealer, player)\n",
    "                    i += 1\n",
    "            else: break\n",
    "\n",
    "\n",
    "            #Rest of the conditions\n",
    "            dcond(dealer, player, bet)\n",
    "            gcond(dealer, player, bet)\n",
    "\n",
    "        for turn in (dealer, player):\n",
    "            print(f'\\n {turn.name}: {turn.card} - In hand: {turn.collect} - Balance is: {turn.balance}')\n",
    "        \n",
    "        if 0 < dealer.balance and 0 < player.balance:\n",
    "            rockin = input('Do you want to continue: ')\n",
    "            if rockin.lower() == 'no':\n",
    "                break\n",
    "            elif rockin.lower() == 'yes':\n",
    "                pass\n",
    "        else: \n",
    "            for turn in (dealer, player):\n",
    "                if turn.balance <= 0:\n",
    "                    print(f'\\n {turn.name}, your balance is over, you lost')\n",
    "                    break\n",
    "    \n",
    "    restart(blackjack)"
   ]
  },
  {
   "cell_type": "code",
   "execution_count": null,
   "metadata": {},
   "outputs": [
    {
     "name": "stdout",
     "output_type": "stream",
     "text": [
      "\n",
      " 100  - The score of the Dealer\n",
      "\n",
      " 100  - The score of the Player\n",
      "\n",
      "---------------------------------------\n",
      "Dealer  |  5  |  Q  |  7  |     |     | \n",
      "---------------------------------------\n",
      "Player  |  3  |  9  |  6  |  1  |     | \n",
      "---------------------------------------\n",
      "\n",
      " Dealer Busted!\n",
      "\n",
      " Dealer: 22 - In hand: ['5', 'Q', '7'] - Balance is: 0\n",
      "\n",
      " Player: 19 - In hand: ['3', '9', '6', '1'] - Balance is: 200\n",
      "\n",
      " Dealer, your balance is over, you lost\n"
     ]
    }
   ],
   "source": [
    "blackjack()"
   ]
  },
  {
   "cell_type": "code",
   "execution_count": null,
   "metadata": {},
   "outputs": [],
   "source": []
  }
 ],
 "metadata": {
  "kernelspec": {
   "display_name": "Python 3",
   "language": "python",
   "name": "python3"
  },
  "language_info": {
   "codemirror_mode": {
    "name": "ipython",
    "version": 3
   },
   "file_extension": ".py",
   "mimetype": "text/x-python",
   "name": "python",
   "nbconvert_exporter": "python",
   "pygments_lexer": "ipython3",
   "version": "3.7.6"
  }
 },
 "nbformat": 4,
 "nbformat_minor": 4
}
