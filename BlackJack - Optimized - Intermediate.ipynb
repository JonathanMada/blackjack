{
 "cells": [
  {
   "cell_type": "code",
   "execution_count": 1,
   "metadata": {},
   "outputs": [],
   "source": [
    "#Defining the deck using pairs of tuples\n",
    "deck = (('1',1),('2',2),('3',3),('4',4),('5',5),('6',6),('7',7),('8',8),('9',9),('10',10),('J',10),('Q',10),('K',10),('A',11))"
   ]
  },
  {
   "cell_type": "code",
   "execution_count": 2,
   "metadata": {},
   "outputs": [],
   "source": [
    "#Function which is fetching randomly all the cards\n",
    "import random\n",
    "\n",
    "def tri():\n",
    "    (a, b) = random.choice(deck)\n",
    "    return(a, b)"
   ]
  },
  {
   "cell_type": "markdown",
   "metadata": {},
   "source": [
    "# Create the display board"
   ]
  },
  {
   "cell_type": "code",
   "execution_count": 3,
   "metadata": {},
   "outputs": [],
   "source": [
    "#1. we have to set the initial variable for the board as empty\n",
    "deal = {1:' ', 2:' ', 3:' ', 4:' ', 5:' '}\n",
    "play = {1:' ', 2:' ', 3:' ', 4:' ', 5:' '}"
   ]
  },
  {
   "cell_type": "code",
   "execution_count": 4,
   "metadata": {},
   "outputs": [],
   "source": [
    "#2. we have to create the board now\n",
    "from IPython.display import clear_output\n",
    "\n",
    "def myboard(deal, play, dealer, player):\n",
    "    clear_output()\n",
    "    print(dealer.balance, '- The score of the dealer')\n",
    "    print(player.balance, '- The score of the player \\n')\n",
    "    print('Dealer',' | ', deal[1],' | ', deal[2],' | ', deal[3],' | ', deal[4],' | ', deal[5],' | ')\n",
    "    print('---------------------------------------')\n",
    "    print('Player',' | ', play[1],' | ', play[2],' | ', play[3],' | ', play[4],' | ', play[5],' | ')"
   ]
  },
  {
   "cell_type": "markdown",
   "metadata": {},
   "source": [
    "# Create the class"
   ]
  },
  {
   "cell_type": "code",
   "execution_count": 5,
   "metadata": {},
   "outputs": [],
   "source": [
    "class Person():\n",
    "    \n",
    "    \n",
    "    def __init__(self, card, balance, name):\n",
    "        self.card = card \n",
    "        self.balance = balance\n",
    "        self.collect = []\n",
    "        self.name = name\n",
    "        \n",
    "    def hit(self):\n",
    "        (x, y) = tri()\n",
    "        \n",
    "        if x == 'A':\n",
    "            if self.name == 'Dealer':\n",
    "                value = [1, 11]\n",
    "                y = random.choice(value)\n",
    "            else:\n",
    "                print(self.name, ' - You got an Ace!')\n",
    "                y = int(input('\\n Choose 1 or 11: '))\n",
    "            \n",
    "        self.collect.append(x)\n",
    "        self.card += y\n",
    "        return(x, y)\n",
    "    \n",
    "    def win(self,bet):\n",
    "        self.balance += bet\n",
    "        return(self.balance)\n",
    "    \n",
    "    def lose(self,bet):\n",
    "        self.balance -= bet\n",
    "        return(self.balance)\n",
    "    "
   ]
  },
  {
   "cell_type": "markdown",
   "metadata": {},
   "source": [
    "# Let's start the game"
   ]
  },
  {
   "cell_type": "code",
   "execution_count": 6,
   "metadata": {},
   "outputs": [],
   "source": [
    "game = True"
   ]
  },
  {
   "cell_type": "code",
   "execution_count": 7,
   "metadata": {},
   "outputs": [],
   "source": [
    "def betting(a, b, bet):\n",
    "    a.win(bet)\n",
    "    b.lose(bet)\n",
    "    return(bet)"
   ]
  },
  {
   "cell_type": "markdown",
   "metadata": {},
   "source": [
    "RESTART FUNCTION"
   ]
  },
  {
   "cell_type": "code",
   "execution_count": 8,
   "metadata": {},
   "outputs": [],
   "source": [
    "def restart(blackjack):\n",
    "    global game\n",
    "    ask = input('Replay the game: ')\n",
    "    if ask.lower() == 'yes':\n",
    "        dealer = Person(0, 0, 'Dealer')\n",
    "        player = Person(0, 0, 'Player')\n",
    "        game = True\n",
    "        blackjack()"
   ]
  },
  {
   "cell_type": "markdown",
   "metadata": {},
   "source": [
    "HIDE & UNHIDE FUNCTION"
   ]
  },
  {
   "cell_type": "code",
   "execution_count": 9,
   "metadata": {},
   "outputs": [],
   "source": [
    "def hide(deal, play, dealer, player, b):\n",
    "    X = 'X'\n",
    "    deal[2] = X\n",
    "    a = deal[2]\n",
    "    myboard(deal, play, dealer, player)\n",
    "    return (deal[2], b)    \n",
    "        \n",
    "def unhide(deal, play, dealer, player, b):\n",
    "    option = input('Show dealer: ')\n",
    "    if option.lower() == 'yes':\n",
    "        deal[2] = b\n",
    "    myboard(deal, play, dealer, player)"
   ]
  },
  {
   "cell_type": "markdown",
   "metadata": {},
   "source": [
    "FUNCTION HIT OR STAY"
   ]
  },
  {
   "cell_type": "code",
   "execution_count": 10,
   "metadata": {},
   "outputs": [],
   "source": [
    "def hit_stay(deal, play, dealer, player):\n",
    "    i = 3\n",
    "    while player.card < 21:\n",
    "\n",
    "        option = input('Do you want to hit or stay: ')\n",
    "        if option.lower() == 'hit':\n",
    "            (x, y) = player.hit()\n",
    "            play[i] = x\n",
    "            i += 1\n",
    "        elif option.lower() == 'stay':\n",
    "            break\n",
    "\n",
    "        myboard(deal, play, dealer, player)\n",
    "        \n",
    "    return(myboard, game, player)"
   ]
  },
  {
   "cell_type": "markdown",
   "metadata": {},
   "source": [
    "CONDITIONS"
   ]
  },
  {
   "cell_type": "code",
   "execution_count": 11,
   "metadata": {},
   "outputs": [],
   "source": [
    "#player condition\n",
    "def pcond(deal, play, dealer, player, bet):\n",
    "    global game\n",
    "    if 21 < player.card and game == True:\n",
    "        myboard(deal, play, dealer, player)\n",
    "        print('\\n Player Busted!')\n",
    "        betting(dealer, player, bet)\n",
    "        game = False\n",
    "    elif 21 == player.card and game == True:\n",
    "        myboard(deal, play, dealer, player)\n",
    "        print('\\n Player BlackJack!')\n",
    "        betting(player, dealer, bet)\n",
    "        game = False\n",
    "    return(game, bet, player.balance)\n",
    "\n",
    "#dealer condition\n",
    "def dcond(deal, play, dealer, player, bet):\n",
    "    global game\n",
    "    if 21 < dealer.card and game == True:\n",
    "        myboard(deal, play, dealer, player)\n",
    "        print('\\n Dealer Busted!')\n",
    "        betting(player, dealer, bet)\n",
    "        game = False\n",
    "    elif 21 == dealer.card and game == True:\n",
    "        myboard(deal, play, dealer, player)\n",
    "        print('\\n Dealer BlackJack!')\n",
    "        betting(dealer, player, bet)\n",
    "        game = False\n",
    "    return(game, bet, dealer.balance)\n",
    "\n",
    "#game condition\n",
    "def gcond(deal, play, dealer, player, bet):\n",
    "    global game\n",
    "    if dealer.card < player.card and game == True:\n",
    "        myboard(deal, play, dealer, player)\n",
    "        print('\\n Player Won!')\n",
    "        betting(player, dealer, bet)\n",
    "        game = False\n",
    "    elif player.card < dealer.card and game == True: \n",
    "        myboard(deal, play, dealer, player)\n",
    "        print('\\n Dealer Won!')\n",
    "        betting(dealer, player, bet)\n",
    "        game = False\n",
    "    elif player.card == dealer.card and game == True: \n",
    "        myboard(deal, play, dealer, player)\n",
    "        print(\"\\n It's a tie game\")\n",
    "        game = False\n",
    "    return(game, dealer.balance, player.balance, bet)"
   ]
  },
  {
   "cell_type": "markdown",
   "metadata": {},
   "source": [
    "# HERE IS THE REAL SHIT!!!"
   ]
  },
  {
   "cell_type": "code",
   "execution_count": 12,
   "metadata": {},
   "outputs": [],
   "source": [
    "def blackjack():\n",
    "\n",
    "    #nitiate the game\n",
    "    deal = {1:' ', 2:' ', 3:' ', 4:' ', 5:' '}\n",
    "    play = {1:' ', 2:' ', 3:' ', 4:' ', 5:' '}\n",
    "    dealer = Person(0, 100, 'Dealer')\n",
    "    player = Person(0, 100, 'Player')\n",
    "    \n",
    "    while 0 < dealer.balance and 0 < player.balance:\n",
    "        global game\n",
    "        game = True\n",
    "        deal = {1:' ', 2:' ', 3:' ', 4:' ', 5:' '}\n",
    "        play = {1:' ', 2:' ', 3:' ', 4:' ', 5:' '}\n",
    "        a = dealer.balance\n",
    "        b = player.balance\n",
    "        dealer = Person(0, a, 'Dealer')\n",
    "        player = Person(0, b, 'Player')\n",
    "        myboard(deal, play, dealer, player)\n",
    "        bet = int(input('Enter your bet: '))\n",
    "        \n",
    "        #we set the while loop that controls the game\n",
    "        while game:\n",
    "\n",
    "\n",
    "            #distribute the card\n",
    "            for turn in (deal, play):\n",
    "                for i in range(1,3):\n",
    "\n",
    "                    if turn == deal:\n",
    "                        (x, y) = dealer.hit()\n",
    "                        turn[i] = x\n",
    "                        #We hide the second card of the dealer\n",
    "                        if i == 2:\n",
    "                            b = deal[2]\n",
    "                            hide(deal, play, dealer, player, b) \n",
    "\n",
    "                    elif turn == play:\n",
    "                        (x, y) = player.hit()\n",
    "                        turn[i] = x\n",
    "                        myboard(deal, play, dealer, player) \n",
    "\n",
    "            #here we set initiate a call for the player if he wanna hit or stay   \n",
    "            hit_stay(deal, play, dealer, player)\n",
    "\n",
    "            #Condition for the player\n",
    "            pcond(deal, play, dealer, player, bet)\n",
    "\n",
    "            #To reveal the dealer's card \n",
    "            if game == True:\n",
    "                unhide(deal, play, dealer, player, b)\n",
    "            else: break\n",
    "\n",
    "            #For showing the dealer's move\n",
    "            option = input('See the dealer move: ')\n",
    "            if option.lower() == 'yes' and game == True:\n",
    "                i = 3\n",
    "                while dealer.card < 17:\n",
    "                    (x, y) = dealer.hit()\n",
    "                    deal[i] = x\n",
    "                    myboard(deal, play, dealer, player)\n",
    "                    i += 1\n",
    "            else: break\n",
    "\n",
    "\n",
    "            #Rest of the conditions\n",
    "            dcond(deal, play, dealer, player, bet)\n",
    "            gcond(deal, play, dealer, player, bet)\n",
    "\n",
    "        print('\\n Dealer: ', dealer.card,' - In hand: ', dealer.collect,' - Balance is: ', dealer.balance)\n",
    "        print('\\n Player: ', player.card,' - In hand: ', player.collect,' - Balance is: ', player.balance)\n",
    "        \n",
    "        if 0 < dealer.balance and 0 < player.balance:\n",
    "            rockin = input('Do you want to continue: ')\n",
    "            if rockin.lower() == 'no':\n",
    "                break\n",
    "            elif rockin.lower() == 'yes':\n",
    "                pass\n",
    "        else: \n",
    "            for turn in (dealer, player):\n",
    "                if turn.balance <= 0:\n",
    "                    print(f'\\n {turn.name}, your balance is over, you lost')\n",
    "                    break\n",
    "    \n",
    "    restart(blackjack)"
   ]
  },
  {
   "cell_type": "code",
   "execution_count": null,
   "metadata": {},
   "outputs": [
    {
     "name": "stdout",
     "output_type": "stream",
     "text": [
      "70 - The score of the dealer\n",
      "130 - The score of the player \n",
      "\n",
      "Dealer  |  A  |  A  |     |     |     | \n",
      "---------------------------------------\n",
      "Player  |  1  |  7  |  6  |  1  |  1  | \n",
      "\n",
      " Dealer Busted!\n",
      "\n",
      " Dealer:  22  - In hand:  ['A', 'A']  - Balance is:  40\n",
      "\n",
      " Player:  16  - In hand:  ['1', '7', '6', '1', '1']  - Balance is:  160\n"
     ]
    }
   ],
   "source": [
    "blackjack()"
   ]
  },
  {
   "cell_type": "code",
   "execution_count": null,
   "metadata": {},
   "outputs": [],
   "source": []
  }
 ],
 "metadata": {
  "kernelspec": {
   "display_name": "Python 3",
   "language": "python",
   "name": "python3"
  },
  "language_info": {
   "codemirror_mode": {
    "name": "ipython",
    "version": 3
   },
   "file_extension": ".py",
   "mimetype": "text/x-python",
   "name": "python",
   "nbconvert_exporter": "python",
   "pygments_lexer": "ipython3",
   "version": "3.7.6"
  }
 },
 "nbformat": 4,
 "nbformat_minor": 4
}
