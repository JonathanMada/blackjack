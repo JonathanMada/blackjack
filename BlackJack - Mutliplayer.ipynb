{
 "cells": [
  {
   "cell_type": "markdown",
   "metadata": {},
   "source": [
    "# START THE GAME"
   ]
  },
  {
   "cell_type": "markdown",
   "metadata": {},
   "source": [
    "Defining the deck using pairs of tuples"
   ]
  },
  {
   "cell_type": "code",
   "execution_count": 1,
   "metadata": {},
   "outputs": [],
   "source": [
    "deck = (('1 ',1),('2 ',2),('3 ',3),('4 ',4),('5 ',5),('6 ',6),('7 ',7),('8 ',8),('9 ',9),('10',10),('J ',10),('Q ',10),('K ',10),('A ',11))"
   ]
  },
  {
   "cell_type": "markdown",
   "metadata": {},
   "source": [
    "Function which is fetching randomly all the cards"
   ]
  },
  {
   "cell_type": "code",
   "execution_count": 2,
   "metadata": {},
   "outputs": [],
   "source": [
    "import random\n",
    "\n",
    "def tri():\n",
    "    (a, b) = random.choice(deck)\n",
    "    return(a, b)"
   ]
  },
  {
   "cell_type": "markdown",
   "metadata": {},
   "source": [
    "# Defining the Class Person"
   ]
  },
  {
   "cell_type": "code",
   "execution_count": 3,
   "metadata": {},
   "outputs": [],
   "source": [
    "class Person():\n",
    "    \n",
    "    \n",
    "    def __init__(self, card, bet, name):\n",
    "        self.card = card \n",
    "        self.balance = 200\n",
    "        self.collect = []\n",
    "        self.name = name\n",
    "        self.bet = bet\n",
    "        self.board = {1:'  ', 2:'  ', 3:'  ', 4:'  ', 5:'  '}\n",
    "        \n",
    "    def tableau(self):\n",
    "        print('Card | ', self.board[1],' | ', self.board[2],' | ', self.board[3],' | ', self.board[4],' | ', self.board[5],' | ',f'{self.name}')\n",
    "        \n",
    "    def hit(self):\n",
    "        (x, y) = tri()\n",
    "        \n",
    "        if x == 'A ':\n",
    "            if self.name == 'Dealer':\n",
    "                value = [1, 11]\n",
    "                y = random.choice(value)\n",
    "            else:\n",
    "                print(self.name, ' - You got an Ace!')\n",
    "                y = int(input('\\n Choose 1 or 11: '))\n",
    "            \n",
    "        self.collect.append(x)\n",
    "        self.card += y\n",
    "        return(x, y)"
   ]
  },
  {
   "cell_type": "markdown",
   "metadata": {},
   "source": [
    "Game Condition"
   ]
  },
  {
   "cell_type": "code",
   "execution_count": 4,
   "metadata": {},
   "outputs": [],
   "source": [
    "total = 0\n",
    "\n",
    "def game_cond(mylist, game):\n",
    "    global total\n",
    "    for turn in mylist:\n",
    "        total += turn.bet\n",
    "        \n",
    "    for turn in mylist:\n",
    "        \n",
    "        #Condition for Black Jack\n",
    "        if turn.card == 21:\n",
    "            print(f'\\n{turn.name} - Black Jack!')\n",
    "            if game == True:\n",
    "                if turn == dealer and dealer.board[2] == 'X ':\n",
    "                    dealer.balance += total\n",
    "                    turn.balance -= turn.bet\n",
    "                else:\n",
    "                    turn.balance += turn.bet*2\n",
    "                    dealer.balance -= turn.bet\n",
    "                    \n",
    "        #Condition for Busted            \n",
    "        elif turn.card > 21:\n",
    "            print(f'\\n{turn.name} - Busted!')\n",
    "            if game == True:\n",
    "                if turn == dealer:\n",
    "                    \n",
    "                    #We set the sanction for the dealer if busted\n",
    "                    for player in mylist:\n",
    "                        if player != dealer:\n",
    "                            player.balance += player.bet\n",
    "                            dealer.balance -= player.bet - 5\n",
    "                            \n",
    "                else:\n",
    "                    turn.balance -= turn.bet\n",
    "                    dealer.balance += turn.bet    "
   ]
  },
  {
   "cell_type": "markdown",
   "metadata": {},
   "source": [
    "we have to create the board now"
   ]
  },
  {
   "cell_type": "code",
   "execution_count": 5,
   "metadata": {},
   "outputs": [],
   "source": [
    "from IPython.display import clear_output\n",
    "\n",
    "#This helps to get multiplayers\n",
    "#The dealer is already assigned\n",
    "dealer = Person(0, 100, 'Dealer')\n",
    "mylist = [dealer]\n",
    "\n",
    "#This board will display all the players\n",
    "def myboard(mylist, game):\n",
    "    clear_output()\n",
    "    for turn in mylist:\n",
    "        print('\\n', turn.balance, f' - The score of {turn.name}')\n",
    "        \n",
    "    print('\\n-----------------------------------------')\n",
    "    for turn in mylist:\n",
    "        turn.tableau()\n",
    "        print('-----------------------------------------')\n",
    "    \n",
    "    #the last condition\n",
    "    game_cond(mylist, game)"
   ]
  },
  {
   "cell_type": "markdown",
   "metadata": {},
   "source": [
    "This function gets all the input from the new players"
   ]
  },
  {
   "cell_type": "code",
   "execution_count": 6,
   "metadata": {},
   "outputs": [],
   "source": [
    "def party(mylist): \n",
    "    players = int(input('Enter the number of players: '))\n",
    "    i = 1\n",
    "    while i < players + 1:\n",
    "        \n",
    "        #Here the players input the attribute for the class Person\n",
    "        clear_output()\n",
    "        b = input(f'Player{i} - enter your name: ')\n",
    "        a = int(input(f'{b} - enter your bet: '))\n",
    "        c = str(i)\n",
    "        c = Person(0, a, b)\n",
    "        \n",
    "        #Here we return back all the new inputs to the list of players\n",
    "        mylist.append(c)\n",
    "        i += 1\n",
    "        \n",
    "    myboard(mylist, game)"
   ]
  },
  {
   "cell_type": "markdown",
   "metadata": {},
   "source": [
    "The function that hide the second card of the dealer"
   ]
  },
  {
   "cell_type": "code",
   "execution_count": 7,
   "metadata": {},
   "outputs": [],
   "source": [
    "#'b' is the global variable that control the hidden card of the dealer\n",
    "b = 0\n",
    "\n",
    "def hide(mylist):\n",
    "    X = 'X '\n",
    "    dealer.board[2] = X\n",
    "    a = dealer.board[2]\n",
    "    myboard(mylist, game)\n",
    "    return (dealer.board[2])    \n",
    "        \n",
    "def unhide(mylist, b):\n",
    "    global total\n",
    "    option = input('Show dealer: ')\n",
    "    if option.lower() == 'yes':\n",
    "        dealer.board[2] = b\n",
    "        \n",
    "    #condition that verifies if the dealer got Black Jack    \n",
    "    if dealer.card == 21:\n",
    "        print(f'{dealer.name} - Black Jack!')\n",
    "        dealer.balance += total\n",
    "        for players in myturn:\n",
    "            if players != dealer:\n",
    "                players.balance -= players.bet\n",
    "                \n",
    "    myboard(mylist, game)"
   ]
  },
  {
   "cell_type": "markdown",
   "metadata": {},
   "source": [
    "The function that distribute the cards"
   ]
  },
  {
   "cell_type": "code",
   "execution_count": 8,
   "metadata": {},
   "outputs": [],
   "source": [
    "def display(mylist):\n",
    "    #we set 'b' as a global variable because it gets re-assigned at a local level\n",
    "    global b\n",
    "    \n",
    "    for turn in (mylist):\n",
    "        for i in range(1,3):\n",
    "\n",
    "            if turn == dealer:\n",
    "                \n",
    "                (x, y) = dealer.hit()\n",
    "                turn.board[i] = x\n",
    "                #We hide the second card of the dealer\n",
    "                if i == 2:\n",
    "                    b = dealer.board[2]\n",
    "                    hide(mylist) \n",
    "            else:\n",
    "                (x, y) = turn.hit()\n",
    "                turn.board[i] = x\n",
    "            myboard(mylist, game) \n",
    "            \n",
    "    return(mylist, b)"
   ]
  },
  {
   "cell_type": "markdown",
   "metadata": {},
   "source": [
    "Game Condition"
   ]
  },
  {
   "cell_type": "code",
   "execution_count": 9,
   "metadata": {},
   "outputs": [],
   "source": [
    "def condition(mylist):\n",
    "    for turn in mylist:\n",
    "        if turn != dealer and turn.card < 21 and dealer.card < 21:\n",
    "            if dealer.card < turn.card:\n",
    "                turn.balance += turn.bet\n",
    "                dealer.balance -= turn.bet\n",
    "                print(f'\\n{turn.name} won against {dealer.name}')\n",
    "            elif turn.card < dealer.card:\n",
    "                turn.balance -= turn.bet\n",
    "                dealer.balance += turn.bet\n",
    "                print(f'\\n{dealer.name} won against {turn.name}')"
   ]
  },
  {
   "cell_type": "markdown",
   "metadata": {},
   "source": [
    "The function that tells the player to hit or stay"
   ]
  },
  {
   "cell_type": "code",
   "execution_count": 10,
   "metadata": {},
   "outputs": [],
   "source": [
    "def hit_stay(mylist, game):\n",
    "    for turn in mylist:   \n",
    "        for i in range(3, 6):\n",
    "            if turn != dealer and turn.card < 21:  \n",
    "                choice = input(f'{turn.name} - do you want to hit or stay: ')\n",
    "                if choice.lower() == 'hit':\n",
    "                    (x, y) = turn.hit()\n",
    "                    turn.board[i] = x\n",
    "                elif choice.lower() == 'stay':\n",
    "                    break\n",
    "            myboard(mylist, game)"
   ]
  },
  {
   "cell_type": "markdown",
   "metadata": {},
   "source": [
    "The function that tracts the balance of each players"
   ]
  },
  {
   "cell_type": "code",
   "execution_count": 11,
   "metadata": {},
   "outputs": [],
   "source": [
    "def replay(mylist, game, run):\n",
    "    #re-run the game\n",
    "    if run == True:\n",
    "\n",
    "        #This will remove those who have lost\n",
    "        for players in mylist:\n",
    "            if players.balance <= 0:\n",
    "                mylist.remove(players)\n",
    "\n",
    "        #Reinitiate all the parameters\n",
    "        for players in mylist:\n",
    "            players.card = 0\n",
    "            players.collect = []\n",
    "            players.board = {1:'  ', 2:'  ', 3:'  ', 4:'  ', 5:'  '}    \n",
    "        myboard(mylist, game)\n",
    "\n",
    "        for players in mylist:\n",
    "            dealer.bet = 0\n",
    "            if players != dealer:\n",
    "                players.bet = int(input(f'{players.name} - enter your bet: '))"
   ]
  },
  {
   "cell_type": "markdown",
   "metadata": {},
   "source": [
    "# GAME START"
   ]
  },
  {
   "cell_type": "code",
   "execution_count": 12,
   "metadata": {},
   "outputs": [],
   "source": [
    "game = False\n",
    "def blackjack(mylist):\n",
    "    \n",
    "    global game\n",
    "    run = False\n",
    "    \n",
    "    #this function calls out the input for each player\n",
    "    party(mylist) \n",
    "    \n",
    "    while 0 < dealer.balance:\n",
    "        \n",
    "        #here we re-run the game\n",
    "        replay(mylist, game, run)\n",
    "\n",
    "        #this initiate the game\n",
    "        display(mylist)\n",
    "\n",
    "        #this ask players if they want to hit or stay\n",
    "        hit_stay(mylist, game)\n",
    "\n",
    "        #show the dealers card\n",
    "        unhide(mylist, b)\n",
    "\n",
    "        #we need to verify at least one is not busted\n",
    "\n",
    "        #here we fetch new cards for the dealer, if the latter is having less than 17\n",
    "        option = input('See the dealer move: ')\n",
    "        if option.lower() == 'yes':\n",
    "            i = 3\n",
    "            while dealer.card < 17:\n",
    "                (x, y) = dealer.hit()\n",
    "                dealer.board[i] = x\n",
    "                myboard(mylist, game)\n",
    "                i += 1\n",
    "\n",
    "        game = True\n",
    "        myboard(mylist, game)\n",
    "        \n",
    "        condition(mylist)\n",
    "\n",
    "        print('\\n-----------------------------------------')\n",
    "        print('Here is the scoreboard')\n",
    "        print('-----------------------------------------')\n",
    "        for turn in mylist:\n",
    "            print(f'\\n{turn.name}: {turn.card} - In hand: {turn.collect} - Balance is: {turn.balance}')\n",
    "         \n",
    "        #Ask players if they still have enough balance to continue or not\n",
    "        for players in mylist:\n",
    "            if players != dealer and 0 < players.balance:\n",
    "                forward = input(f'{players.name} - Do you want to continue?')\n",
    "                if forward.lower() == 'yes':\n",
    "                    run = True\n",
    "                elif forward.lower() == 'no':\n",
    "                    mylist.remove(players)\n",
    "                \n",
    "                    \n",
    "        if len(mylist) == 1:\n",
    "            break"
   ]
  },
  {
   "cell_type": "code",
   "execution_count": null,
   "metadata": {},
   "outputs": [
    {
     "name": "stdout",
     "output_type": "stream",
     "text": [
      "\n",
      " 200  - The score of Dealer\n",
      "\n",
      " 200  - The score of John\n",
      "\n",
      " 200  - The score of Fortunat\n",
      "\n",
      " 200  - The score of Garrys\n",
      "\n",
      "-----------------------------------------\n",
      "Card |  A   |  9   |      |      |      |  Dealer\n",
      "-----------------------------------------\n",
      "Card |  2   |  2   |  7   |  10  |      |  John\n",
      "-----------------------------------------\n",
      "Card |  8   |  A   |      |      |      |  Fortunat\n",
      "-----------------------------------------\n",
      "Card |  5   |  8   |  7   |      |      |  Garrys\n",
      "-----------------------------------------\n",
      "\n",
      "John - Black Jack!\n",
      "\n",
      "Dealer won against Fortunat\n",
      "\n",
      "-----------------------------------------\n",
      "Here is the scoreboard\n",
      "-----------------------------------------\n",
      "\n",
      "Dealer: 20 - In hand: ['A ', '9 '] - Balance is: 205\n",
      "\n",
      "John: 21 - In hand: ['2 ', '2 ', '7 ', '10'] - Balance is: 230\n",
      "\n",
      "Fortunat: 19 - In hand: ['8 ', 'A '] - Balance is: 180\n",
      "\n",
      "Garrys: 20 - In hand: ['5 ', '8 ', '7 '] - Balance is: 200\n"
     ]
    }
   ],
   "source": [
    "blackjack(mylist)"
   ]
  },
  {
   "cell_type": "code",
   "execution_count": null,
   "metadata": {},
   "outputs": [],
   "source": []
  },
  {
   "cell_type": "code",
   "execution_count": null,
   "metadata": {},
   "outputs": [],
   "source": []
  }
 ],
 "metadata": {
  "kernelspec": {
   "display_name": "Python 3",
   "language": "python",
   "name": "python3"
  },
  "language_info": {
   "codemirror_mode": {
    "name": "ipython",
    "version": 3
   },
   "file_extension": ".py",
   "mimetype": "text/x-python",
   "name": "python",
   "nbconvert_exporter": "python",
   "pygments_lexer": "ipython3",
   "version": "3.7.6"
  }
 },
 "nbformat": 4,
 "nbformat_minor": 4
}
